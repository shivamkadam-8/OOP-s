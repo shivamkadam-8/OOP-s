{
  "nbformat": 4,
  "nbformat_minor": 0,
  "metadata": {
    "colab": {
      "provenance": []
    },
    "kernelspec": {
      "name": "python3",
      "display_name": "Python 3"
    },
    "language_info": {
      "name": "python"
    }
  },
  "cells": [
    {
      "cell_type": "markdown",
      "source": [
        "# ***THEORY QUESTION'S***"
      ],
      "metadata": {
        "id": "vzt90P1dOQMg"
      }
    },
    {
      "cell_type": "markdown",
      "source": [
        "1)What is Object-Oriented Programming (OOP)?\n",
        "\n",
        "Ans:-\n",
        "Object-Oriented Programming (OOP) is a programming paradigm that uses objects and classes to structure and organize software programs. Python, being an object-oriented language, supports this paradigm and allows you to create and manipulate objects easily. Here's a basic explanation of key OOP concepts in Python:\n",
        "\n",
        "Key Concepts of OOP:-\n",
        "\n",
        "Classes and Objects:\n",
        "\n",
        "Class: A blueprint for creating objects. It defines a set of attributes and methods that the created objects (instances) will have.\n",
        "\n",
        "Object: An instance of a class. It's a specific implementation of the class with actual values.\n",
        "\n",
        "Attributes and Methods:\n",
        "\n",
        "Attributes: Variables that belong to a class or an object. They represent the state or data of the object.\n",
        "Methods: Functions that belong to a class and can be called on objects. They represent the behavior or actions of the object.\n",
        "\n",
        "Encapsulation:\n",
        "\n",
        "Encapsulation is the bundling of data (attributes) and methods that operate on the data into a single unit, i.e., a class. It also involves restricting direct access to some of the object's components, which can help prevent accidental modification of data.\n",
        "\n",
        "Inheritance:\n",
        "\n",
        "Inheritance allows a class (child class) to inherit attributes and methods from another class (parent class). This promotes code reuse and creates a hierarchical relationship between classes.\n",
        "\n",
        "Polymorphism:\n",
        "\n",
        "Polymorphism allows objects of different classes to be treated as objects of a common superclass. It is often achieved through method overriding, where a subclass provides a specific implementation of a method already defined in its superclass.\n",
        "\n",
        "Abstraction:\n",
        "\n",
        "Abstraction involves hiding the complex implementation details of a class and exposing only the necessary and relevant parts. This helps in reducing complexity and increasing efficiency."
      ],
      "metadata": {
        "id": "jmu9OiHPO6lS"
      }
    },
    {
      "cell_type": "markdown",
      "source": [
        "2)What is a class in OOP?\n",
        "\n",
        "Ans:- In Object-Oriented Programming (OOP) in Python, a class is a blueprint or template for creating objects, which are instances of the class. A class encapsulates data (attributes) and functions (methods) that operate on the data. This encapsulation allows for organizing and structuring code in a modular and reusable manner."
      ],
      "metadata": {
        "id": "gxLRanRiccZk"
      }
    },
    {
      "cell_type": "markdown",
      "source": [
        "3)What is an object in OOP?\n",
        "\n",
        "Ans:-In Object-Oriented Programming (OOP) in Python, an object is a concrete instance of a class. An object encapsulates data and behavior described by the class, allowing for the creation of modular, reusable code structures."
      ],
      "metadata": {
        "id": "39YSPaEOgfBU"
      }
    },
    {
      "cell_type": "markdown",
      "source": [
        "4)What is the difference between abstraction and encapsulation?\n",
        "\n",
        "Ans:-Abstraction and encapsulation are two fundamental concepts in Object-Oriented Programming (OOP) that help in managing complexity and improving code maintainability. Though they are related, they serve different purposes and are used in different ways.\n",
        "\n",
        "Abstraction\n",
        "Definition: Abstraction is the concept of hiding the complex implementation details and showing only the essential features of the object. It focuses on what an object does rather than how it does it.\n",
        "\n",
        "Purpose: The primary goal of abstraction is to reduce complexity and allow the programmer to focus on interactions at a higher level.\n",
        "\n",
        "Implementation:\n",
        "\n",
        "In Python, abstraction can be achieved using abstract classes and interfaces.\n",
        "Abstract classes can be created using the ABC (Abstract Base Class) module, and abstract methods are defined using the @abstractmethod decorator.\n",
        "\n",
        "from abc import ABC, abstractmethod\n",
        "\n",
        "class Animal(ABC):\n",
        "    @abstractmethod\n",
        "    def sound(self):\n",
        "        pass\n",
        "\n",
        "class Dog(Animal):\n",
        "    def sound(self):\n",
        "        return \"Bark\"\n",
        "\n",
        "class Cat(Animal):\n",
        "    def sound(self):\n",
        "        return \"Meow\"\n",
        "\n",
        "dog = Dog()\n",
        "\n",
        "cat = Cat()\n",
        "\n",
        "print(dog.sound())  # Output: Bark\n",
        "\n",
        "print(cat.sound())  # Output: Meow\n",
        "\n",
        "Encapsulation\n",
        "Definition: Encapsulation is the concept of bundling the data (attributes) and methods (functions) that operate on the data into a single unit, or class. It restricts direct access to some of the object's components, which can prevent accidental or unauthorized modifications.\n",
        "\n",
        "Purpose: The primary goal of encapsulation is to protect the internal state of an object and enforce a controlled way of accessing and modifying it.\n",
        "\n",
        "Implementation:\n",
        "\n",
        "Encapsulation is typically achieved by using access modifiers.\n",
        "In Python, you can use single underscore _ for protected members and double underscore __ for private members.\n",
        "\n",
        "\n",
        "class Car:    \n",
        "    \n",
        "    def __init__(self, make, model, year):\n",
        "\n",
        "        self.__make = make  # Private attribute\n",
        "    \n",
        "        self.__model = model  # Private attribute\n",
        "    \n",
        "        self.__year = year  # Private attribute\n",
        "\n",
        "    def get_make(self):\n",
        "        return self.__make\n",
        "\n",
        "    def set_make(self, make):\n",
        "        self.__make = make\n",
        "\n",
        "my_car = Car(\"Toyota\", \"Corolla\", 2020)\n",
        "\n",
        "print(my_car.get_make())  # Output: Toyota\n",
        "\n",
        "my_car.set_make(\"Honda\")\n",
        "\n",
        "\n",
        "print(my_car.get_make())  # Output: Honda\n",
        "\n",
        "AttributeError: 'Car' object has no attribute '__make'\n",
        "\n"
      ],
      "metadata": {
        "id": "M7WL9Hq_hRgX"
      }
    },
    {
      "cell_type": "markdown",
      "source": [
        "5)What are dunder methods in Python?\n",
        "\n",
        "Ans:Dunder methods, short for \"double underscore\" methods, are special methods in Python that start and end with double underscores (e.g., _______init___, _______str____). These methods are also known as \"magic methods\" because they enable developers to customize the behavior of Python objects, making them more intuitive and powerful.\n",
        "\n",
        "Here are some common dunder methods and their purposes:\n",
        "\n",
        "1)_______init___(self, ...): The constructor method, called when an instance of a class is created.\n",
        "\n",
        "class MyClass:\n",
        "    def __init__(self, value):\n",
        "        self.value = value\n",
        "\n",
        "2)______str__(self): Defines the string representation of an object, which is used by the str() function and the print() function.\n",
        "\n",
        "class MyClass:\n",
        "    def __init__(self, value):\n",
        "        self.value = value\n",
        "    \n",
        "    def __str__(self):\n",
        "        return f'MyClass with value {self.value}'\n"
      ],
      "metadata": {
        "id": "o6OE4iGbsMxI"
      }
    },
    {
      "cell_type": "markdown",
      "source": [
        "6)Explain the concept of inheritance in OOP.\n",
        "\n",
        "Ans:-\n",
        "Inheritance is a fundamental concept in object-oriented programming (OOP) that allows a new class (called a subclass or derived class) to inherit properties and behaviors (methods) from an existing class (called a superclass or base class). This mechanism promotes code reuse, modularity, and a hierarchical class structure.\n",
        "\n",
        "Here’s a detailed explanation of inheritance:\n",
        "\n",
        "Key Concepts:-\n",
        "\n",
        "1)Superclass (Base Class): The class whose properties and methods are inherited by another class.\n",
        "\n",
        "2)Subclass (Derived Class): The class that inherits properties and methods from the superclass.\n",
        "\n",
        "3)Inheritance Hierarchy: The chain of classes that inherit from one another."
      ],
      "metadata": {
        "id": "1Md4ceO4SBbA"
      }
    },
    {
      "cell_type": "markdown",
      "source": [
        "7) What is polymorphism in OOP?\n",
        "\n",
        "Ans:-Polymorphism in Python, as in other object-oriented programming languages, refers to the ability of different classes to be treated as instances of the same class through a common interface. This allows methods to perform different behaviors depending on the object they are called on, even though they share the same name. Polymorphism promotes flexibility and integration within code, making it more modular and easier to extend."
      ],
      "metadata": {
        "id": "-_iOS38SUa3Y"
      }
    },
    {
      "cell_type": "markdown",
      "source": [
        "8) How is encapsulation achieved in Python?\n",
        "\n",
        "Ans:-Encapsulation is a fundamental concept in object-oriented programming (OOP) that involves bundling the data (attributes) and methods (functions) that operate on the data into a single unit, called a class. It also involves restricting access to some of the object's components to protect the object's internal state from unwanted interference and misuse.\n",
        "\n",
        "In Python, encapsulation is achieved through the use of:\n",
        "\n",
        "1)Public Attributes and Methods\n",
        "\n",
        "2)Protected Attributes and Methods\n",
        "\n",
        "3)Private Attributes and Methods"
      ],
      "metadata": {
        "id": "-ik4URMZnhB4"
      }
    },
    {
      "cell_type": "markdown",
      "source": [
        "9)What is a constructor in Python?\n",
        "\n",
        "Ans:In Python, a constructor is a special method that is automatically called when a new instance of a class is created. This method is used to initialize the object's attributes and set up any necessary initial state. The constructor method in Python is defined using the ______init__ method. Here's a simple example to illustrate how it works:\n",
        "\n",
        "class Dog:\n",
        "  \n",
        " def ______init__(self, name, age):\n",
        "  self.name = name  \n",
        "  \n",
        "  self.age = age    \n",
        "\n",
        "my_dog = Dog(\"Buddy\", 3)\n",
        "\n",
        "print(my_dog.name)  # Output: Buddy\n",
        "\n",
        "print(my_dog.age)   # Output: 3\n"
      ],
      "metadata": {
        "id": "c89LGQGZqQTO"
      }
    },
    {
      "cell_type": "markdown",
      "source": [
        "10)What are class and static methods in Python?\n",
        "\n",
        "Ans:-In Python, class methods and static methods are two types of methods that differ in how they interact with the class and its instances. They are defined using decorators: @classmethod and @staticmethod.\n",
        "\n",
        "a)Class Methods\n",
        "Class methods are methods that are bound to the class and not the instance of the class. They can modify the class state that applies across all instances of the class. To define a class method, you use the @classmethod decorator. The first parameter of a class method is cls, which refers to the class itself.\n",
        "\n",
        "Here’s an example of a class method:\n",
        "\n",
        "class Dog:\n",
        "  species = \"Canis familiaris\"  # Class attribute\n",
        "\n",
        "   def ______init__(self, name, age):\n",
        "        \n",
        "        self.name = name\n",
        "\n",
        "        self.age = age\n",
        "\n",
        "   @classmethod\n",
        "\n",
        "   \n",
        "   def set_species(cls, species):\n",
        "   \n",
        "        cls.species = species\n",
        "\n",
        "Dog.set_species(\"Canis lupus\")\n",
        "\n",
        "\n",
        "dog1 = Dog(\"Buddy\", 3)\n",
        "\n",
        "dog2 = Dog(\"Max\", 5)\n",
        "\n",
        "print(dog1.species)  # Output: Canis lupus\n",
        "\n",
        "print(dog2.species)  # Output: Canis lupus\n",
        "\n",
        "\n",
        "b)Static Methods\n",
        "Static methods are methods that do not modify object state or class state. They are similar to regular functions but belong to the class's namespace. To define a static method, you use the @staticmethod decorator. Static methods do not take a self or cls parameter.\n",
        "\n",
        "Here’s an example of a static method:\n",
        "\n",
        "class Dog:\n",
        "    def __init__(self, name, age):\n",
        "        self.name = name\n",
        "        self.age = age\n",
        "\n",
        "    @staticmethod\n",
        "    def bark():\n",
        "        return \"Woof!\"\n",
        "\n",
        "my_dog = Dog(\"Buddy\", 3)\n",
        "\n",
        "\n",
        "print(Dog.bark())  # Output: Woof!\n",
        "print(my_dog.bark())  # Output: Woof!\n"
      ],
      "metadata": {
        "id": "6pz6RsRheiD1"
      }
    },
    {
      "cell_type": "markdown",
      "source": [
        "11)What is method overloading in Python?\n",
        "\n",
        "Ans:-\n",
        "Method overloading refers to the ability to define multiple methods in the same class with the same name but different parameters. In many programming languages, method overloading allows the compiler or interpreter to distinguish which method to call based on the number or types of the parameters. However, Python does not support traditional method overloading as seen in languages like Java or C++.\n",
        "\n",
        "In Python, if you define multiple methods with the same name in a class, the last defined method will override the previous ones. Instead, Python achieves a similar effect using default arguments, variable-length arguments (*args and **kwargs), and conditional logic within a single method definition.\n",
        "\n",
        "Here’s an example to illustrate how you can mimic method overloading in Python:\n",
        "\n",
        "class Example:\n",
        "  \n",
        "    def do_something(self, *args):\n",
        "  \n",
        "        if len(args) == 1:\n",
        "  \n",
        "            return self._do_something_with_one_arg(args[0])\n",
        "  \n",
        "        elif len(args) == 2:\n",
        "  \n",
        "            return self._do_something_with_two_args(args[0], args[1])\n",
        "  \n",
        "        else:\n",
        "  \n",
        "            return \"Unsupported number of arguments\"\n",
        "\n",
        "  \n",
        "    def _do_something_with_one_arg(self, arg1):\n",
        "  \n",
        "        return f\"Called with one argument: {arg1}\"\n",
        "\n",
        "\n",
        "    def _do_something_with_two_args(self, arg1, arg2):\n",
        "\n",
        "        return f\"Called with two arguments: {arg1} and {arg2}\"\n",
        "\n",
        "example = Example()\n",
        "\n",
        "\n",
        "print(example.do_something(1))     # Output: Called with one argument: 1\n",
        "\n",
        "print(example.do_something(1, 2) # Output: Called with two arguments: 1 and 2\n",
        "\n",
        "print(example.do_something(1, 2, 3))   # Output: Unsupported number of arguments"
      ],
      "metadata": {
        "id": "65lWGFwKiaz_"
      }
    },
    {
      "cell_type": "markdown",
      "source": [
        "12)What is method overriding in OOP?\n",
        "Ans:-\n",
        "Method overriding is a feature in object-oriented programming (OOP) that allows a subclass to provide a specific implementation of a method that is already defined in its superclass. The overriding method in the subclass has the same name, return type, and parameters as the method in the superclass. This allows the subclass to modify or extend the behavior of the superclass method.\n",
        "\n",
        "In Python, method overriding is straightforward and can be illustrated with a simple example:\n",
        "\n",
        "Example of Method Overriding\n",
        "\n",
        "class Animal:\n",
        "    \n",
        "    def speak(self):\n",
        "    \n",
        "        return \"Some generic animal sound\"\n",
        "\n",
        "\n",
        "class Dog(Animal):\n",
        "\n",
        "    def speak(self):\n",
        "\n",
        "        return \"Woof!\"\n",
        "\n",
        "class Cat(Animal):\n",
        "\n",
        "    def speak(self):\n",
        "\n",
        "        return \"Meow!\"\n",
        "\n",
        "\n",
        "dog = Dog()\n",
        "\n",
        "cat = Cat()\n",
        "\n",
        "\n",
        "print(dog.speak())  # Output: Woof!\n",
        "\n",
        "print(cat.speak())  # Output: Meow!"
      ],
      "metadata": {
        "id": "ie_AcTGWmkWk"
      }
    },
    {
      "cell_type": "markdown",
      "source": [
        "13)What is a property decorator in Python?\n",
        "\n",
        "Ans:-In Python, a property decorator is used to define methods in a class that can be accessed like attributes, providing a way to control access to instance variables. The @property decorator allows you to define a method as a property, enabling you to implement getter, setter, and deleter functionality for an attribute. This encapsulates the internal representation of data and allows for validation or computation when getting or setting an attribute."
      ],
      "metadata": {
        "id": "akmDrb2KsFqF"
      }
    },
    {
      "cell_type": "markdown",
      "source": [
        "14)Why is polymorphism important in OOP?\n",
        "\n",
        "Ans:-\n",
        "Polymorphism is one of the core concepts in Object-Oriented Programming (OOP), and it plays a crucial role in making code more flexible, reusable, and maintainable. The term \"polymorphism\" comes from Greek words meaning \"many forms.\" In the context of OOP, it allows objects of different classes to be treated as objects of a common superclass. The key benefit is that you can write code that works with different types of objects in a uniform way.\n",
        "\n",
        "\n",
        "Polymorphism is important in OOP because it:\n",
        "\n",
        "a)Promotes code reusability and reduces redundancy.\n",
        "\n",
        "b)Increases flexibility by allowing new classes to be introduced without affecting existing code.\n",
        "\n",
        "c)Improves maintainability and simplifies updates and changes.\n",
        "\n",
        "d)Supports dynamic behavior at runtime, allowing code to be more adaptable.\n",
        "\n",
        "e)Simplifies code logic by reducing the need for type checking and conditionals."
      ],
      "metadata": {
        "id": "oF9xszBb8C-y"
      }
    },
    {
      "cell_type": "markdown",
      "source": [
        "15)What is an abstract class in Python?\n",
        "\n",
        "Ans:-An abstract class in Python is a class that cannot be instantiated on its own and is designed to be subclassed. It allows you to define methods that must be created within any child classes built from the abstract class. These methods are often referred to as abstract methods.\n",
        "\n",
        "In Python, abstract classes are defined using the abc module, which stands for Abstract Base Classes.\n",
        "\n",
        "Abstract Base Class (ABC): Use ABC as a base class for defining abstract classes.\n",
        "\n",
        "Abstract Method: Use the @abstractmethod decorator to declare methods that must be implemented by subclasses.\n",
        "\n",
        "Instantiation: You cannot create an instance of an abstract class directly. You must create a subclass that implements all abstract methods.\n",
        "\n",
        "Abstract classes are useful when you want to provide a common interface for a group of related classes, ensuring that they all implement specific methods."
      ],
      "metadata": {
        "id": "WAFBV79y-jN_"
      }
    },
    {
      "cell_type": "markdown",
      "source": [
        "16)What are the advantages of OOP?\n",
        "\n",
        "Ans:-Object-Oriented Programming (OOP) offers several advantages that make it a popular programming paradigm. Here are some key benefits:\n",
        "\n",
        "Encapsulation:\n",
        "\n",
        "Encapsulation is the bundling of data (attributes) and methods (functions) that operate on the data into a single unit, called an object. It restricts direct access to some of an object's components, which can prevent the accidental modification of data.\n",
        "It provides a clear modular structure for programs, making it easier to understand and manage.\n",
        "\n",
        "Abstraction:\n",
        "\n",
        "Abstraction allows you to hide complex implementation details and show only the essential features of an object. This simplifies code maintenance and enhances the understanding of how the system works.\n",
        "It helps in reducing programming complexity and effort by enabling the creation of reusable objects and classes.\n",
        "\n",
        "Inheritance:\n",
        "\n",
        "Inheritance allows one class to inherit the attributes and methods of another class. This promotes code reuse and can lead to a hierarchical classification.\n",
        "It enables the creation of a new class based on an existing class, thereby reducing redundancy.\n",
        "\n",
        "Polymorphism:\n",
        "\n",
        "Polymorphism allows methods to do different things based on the object it is acting upon, even if they share the same name. This enables one interface to be used for a general class of actions.\n",
        "It provides flexibility and the ability to define multiple behaviors for the same method based on the object context.\n",
        "\n",
        "Modularity:\n",
        "\n",
        "OOP encourages the division of tasks into smaller, manageable, and self-contained units (objects and classes). This modular approach makes the system easier to debug, test, and maintain.\n",
        "Each module or class can be developed, tested, and debugged independently.\n",
        "\n",
        "Reusability:\n",
        "\n",
        "With inheritance and polymorphism, you can reuse existing code, which reduces redundancy and increases efficiency. Classes and objects can be reused across different programs.\n",
        "Well-designed classes can be used in multiple projects, reducing development time and cost.\n",
        "\n",
        "Maintainability:\n",
        "\n",
        "OOP makes it easier to manage and modify existing code. Since the design is modular, changes in one part of the system can be made with minimal impact on other parts.\n",
        "Encapsulation and abstraction lead to a clear separation of concerns, making it simpler to understand and modify code.\n",
        "\n",
        "Real-World Modeling:\n",
        "\n",
        "OOP provides a clear structure for modeling real-world entities and relationships. Objects represent real-world entities, and classes represent the blueprints for these objects.\n",
        "This alignment with real-world concepts makes the design and implementation of software more intuitive and aligned with how we perceive and interact with the real world.\n",
        "\n",
        "Concurrency:\n",
        "\n",
        "OOP can facilitate concurrent development by allowing different team members to work on different objects or classes simultaneously without causing conflicts.\n",
        "This can lead to faster development and more efficient use of resources."
      ],
      "metadata": {
        "id": "DOqQ9OtzyBoW"
      }
    },
    {
      "cell_type": "markdown",
      "source": [
        "17)What is the difference between a class variable and an instance variable?\n",
        "\n",
        "Ans:-In Object-Oriented Programming (OOP), a class variable and an instance variable serve different purposes and have different scopes. Here’s a detailed comparison:\n",
        "\n",
        "1)Class Variables\n",
        "Definition:\n",
        "\n",
        "A class variable is shared among all instances of a class. It is defined within the class but outside any instance methods.\n",
        "Scope:\n",
        "\n",
        "Class variables are scoped at the class level. They are accessible to all instances of the class and the class itself.\n",
        "Usage:\n",
        "\n",
        "Class variables are used when you want to store data that should be shared among all instances of a class.\n",
        "\n",
        "class Animal:\n",
        " species = \"Canine\"  # Class variable\n",
        "\n",
        " def _______init___(self, name):\n",
        "       \n",
        "        self.name = name  # Instance variable\n",
        "\n",
        "Access:-\n",
        "\n",
        "Class variables can be accessed using the class name or through any instance of the class.\n",
        "\n",
        "print(Animal.species)  # Output: Canine\n",
        "\n",
        "dog = Animal(\"Buddy\")\n",
        "print(dog.species)     # Output: Canine\n",
        "\n",
        "Modification:\n",
        "\n",
        "Modifying a class variable affects all instances.\n",
        "\n",
        "Animal.species = \"Feline\"\n",
        "\n",
        "print(dog.species)     # Output: Feline\n",
        "\n",
        "\n",
        "2)Instance Variables\n",
        "\n",
        "Definition:\n",
        "\n",
        "An instance variable is unique to each instance of a class. It is defined within methods, typically within the __init__ method.\n",
        "Scope:\n",
        "\n",
        "Instance variables are scoped at the instance level. Each instance has its own copy of the instance variables.\n",
        "Usage:\n",
        "\n",
        "Instance variables are used to store data that is unique to each instance.\n",
        "Example:\n",
        "\n",
        "class Animal:\n",
        "    species = \"Canine\"  # Class variable\n",
        "\n",
        "    def __init__(self, name):\n",
        "        self.name = name  # Instance variable\n",
        "\n",
        "Access:\n",
        "\n",
        "Instance variables are accessed through the instance of the class.\n",
        "\n",
        "dog = Animal(\"Buddy\")\n",
        "print(dog.name)        # Output: Buddy\n",
        "\n",
        "Modification:\n",
        "\n",
        "Modifying an instance variable affects only that particular instance.\n",
        "\n",
        "dog.name = \"Max\"\n",
        "print(dog.name)        # Output: Max\n",
        "\n",
        "another_dog = Animal(\"Charlie\")\n",
        "print(another_dog.name)  # Output: Charlie\n",
        "\n",
        "\n"
      ],
      "metadata": {
        "id": "kwjsj6lV1VfJ"
      }
    },
    {
      "cell_type": "markdown",
      "source": [
        "18)What is multiple inheritance in Python?\n",
        "\n",
        "Ans:-Multiple inheritance in Python is a feature where a class can inherit attributes and methods from more than one parent class. This allows a child class to combine and utilize the functionalities of multiple parent classes.\n",
        "\n",
        "Syntax\n",
        "Here’s how multiple inheritance is typically defined in Python:\n",
        "\n",
        "class Parent1:\n",
        "    def method1(self):\n",
        "   \n",
        "        print(\"Method from Parent1\")\n",
        "\n",
        "class Parent2:\n",
        "   \n",
        "    def method2(self):\n",
        "   \n",
        "        print(\"Method from Parent2\")\n",
        "\n",
        "class Child(Parent1, Parent2):\n",
        "   \n",
        "    def method3(self):\n",
        "   \n",
        "        print(\"Method from Child\")\n",
        "\n",
        "child = Child()\n",
        "\n",
        "child.method1()  # Output: Method from Parent1\n",
        "\n",
        "child.method2()  # Output: Method from Parent2\n",
        "\n",
        "child.method3()  # Output: Method from Child\n",
        "\n",
        "Advantages:-\n",
        "\n",
        "Reusability: Multiple inheritance promotes code reusability by allowing a class to use the functionality of multiple base classes.\n",
        "\n",
        "Modularity: It helps in organizing code into more logical and modular units, where each base class can represent a distinct concept or functionality.\n",
        "\n",
        "Disadvantages\n",
        "\n",
        "Complexity: Multiple inheritance can make the code complex and harder to understand, especially when dealing with method resolution conflicts.\n",
        "\n",
        "Conflicts: It can lead to method or attribute conflicts if the same method or attribute is defined in multiple parent classes.\n",
        "\n",
        "Multiple inheritance is a powerful feature, but it should be used with caution to maintain code readability and simplicity.\n"
      ],
      "metadata": {
        "id": "31mlXcuHH4FB"
      }
    },
    {
      "cell_type": "markdown",
      "source": [
        "19) Explain the purpose of ‘’______str__’ and ‘______repr__’ ‘ methods in Python.\n",
        "\n",
        "Ans:-In Python, the __str__ and __repr__ methods are special methods used to define string representations of objects. They serve different purposes and are intended for different audiences.\n",
        "\n",
        "1)__str__ Method\n",
        "\n",
        "Purpose: The __str__ method is used to create a \"pretty\" or user-friendly string representation of an object. It is meant to be readable and useful for end-users.\n",
        "Usage: When you print an object or use str() on it, Python calls the __str__ method.\n",
        "Example:\n",
        "\n",
        "class Person:\n",
        "    def __init__(self, name, age):\n",
        "        self.name = name\n",
        "        self.age = age\n",
        "    \n",
        "    def __str__(self):\n",
        "        return f\"Person(name={self.name}, age={self.age})\"\n",
        "\n",
        "person = Person(\"Alice\", 30)\n",
        "\n",
        "print(person)  # Output: Person(name=Alice, age=30)\n",
        "\n",
        "2)__repr__ Method\n",
        "Purpose: The __repr__ method is used to create an \"official\" string representation of an object, which is more detailed and unambiguous. It is intended for developers and debugging purposes.\n",
        "Usage: When you call repr() on an object or simply type the object name in an interactive shell, Python calls the __repr__ method.\n",
        "Example:\n",
        "python\n",
        "Copy code\n",
        "class Person:\n",
        "    def __init__(self, name, age):\n",
        "        self.name = name\n",
        "        self.age = age\n",
        "    \n",
        "    def __repr__():\n",
        "        return f\"Person(name='{self.name}', age={self.age})\"\n",
        "\n",
        "person = Person(\"Alice\", 30)\n",
        "\n",
        "print(repr(person))  # Output: Person(name='Alice', age=30)\n"
      ],
      "metadata": {
        "id": "6-AiPYihJDvD"
      }
    },
    {
      "cell_type": "markdown",
      "source": [
        "20) What is the significance of the ‘super()’ function in Python?\n",
        "\n",
        "Ans:-\n",
        "The super() function in Python is used to call a method from a parent (or superclass) in a class hierarchy. It is primarily used in the context of inheritance to enable derived classes to access and extend the behavior of their base classes.\n",
        "\n",
        "Significance of super()\n",
        "\n",
        "1)Access to Parent Methods:\n",
        "\n",
        "super() allows you to call methods from the parent class, enabling code reuse and extending or modifying inherited behavior without having to rewrite the entire method.\n",
        "\n",
        "class Parent:\n",
        "  \n",
        "    def greet(self):\n",
        "  \n",
        "        return \"Hello from Parent\"\n",
        "\n",
        "\n",
        "class Child(Parent):\n",
        "\n",
        "    def greet(self):\n",
        "\n",
        "        return f\"{super().greet()} and Hello from Child\"\n",
        "\n",
        "\n",
        "c = Child()\n",
        "\n",
        "print(c.greet())  # Output: Hello from Parent and Hello from Child\n",
        "\n",
        "2)Multiple Inheritance:\n",
        "\n",
        "In multiple inheritance scenarios, super() ensures that methods are called in a consistent and predictable order, known as the method resolution order (MRO). This helps in managing the complexity of\n",
        "multiple inheritance.\n",
        "\n",
        "class A:\n",
        "    \n",
        "    def method(self):\n",
        "    \n",
        "        print(\"A method\")\n",
        "\n",
        "\n",
        "class B(A):\n",
        "\n",
        "    def method(self):\n",
        "\n",
        "        print(\"B method\")\n",
        "\n",
        "        super().method()\n",
        "\n",
        "\n",
        "class C(A):\n",
        "\n",
        "    def method(self):\n",
        "\n",
        "        print(\"C method\")\n",
        "\n",
        "        super().method()\n",
        "\n",
        "class D(B, C):\n",
        "\n",
        "    def method(self):\n",
        "\n",
        "        print(\"D method\")\n",
        "\n",
        "        super().method()\n",
        "\n",
        "d = D()\n",
        "\n",
        "d.method()\n",
        "\n",
        "3)Dynamic Resolution:\n",
        "\n",
        "super() dynamically resolves the next class in the MRO, making it possible to write more flexible and maintainable code. This is particularly useful when working with mix-ins or complex class hierarchies.\n",
        "\n",
        "4)Avoiding Explicit Class Names:\n",
        "\n",
        "Using super() helps avoid hardcoding the parent class name, making the code more maintainable and reducing the risk of errors if the class hierarchy changes.\n",
        "\n",
        "class Base:\n",
        "\n",
        "    def __init__(self):\n",
        "\n",
        "        print(\"Base init\")\n",
        "\n",
        "class Derived(Base):\n",
        "\n",
        "    def __init__(self):\n",
        "\n",
        "        super().__init__()\n",
        "\n",
        "        print(\"Derived init\")\n",
        "\n",
        "\n",
        "d = Derived()\n"
      ],
      "metadata": {
        "id": "Pz7UVnBvNp7Q"
      }
    },
    {
      "cell_type": "markdown",
      "source": [
        "21) What is the significance of the ______del__ method in Python?\n",
        "\n",
        "Ans:-\n",
        "The __del__ method in Python is a special method, also known as a destructor, that is called when an object is about to be destroyed. Its primary purpose is to perform any necessary cleanup, such as releasing resources (like file handles or network connections) or other finalization tasks. Here's a more detailed look at its significance:\n",
        "\n",
        "Resource Management: The __del__ method is commonly used to release resources that the object may have acquired during its lifetime. This can include closing files, releasing network resources, or freeing up memory that was allocated for certain operations.\n",
        "\n",
        "Object Finalization: It allows for clean-up actions right before the object is destroyed. This can be important in scenarios where you want to ensure that certain actions are taken before the object's memory is reclaimed by the garbage collector.\n",
        "\n",
        "Automatic Garbage Collection: Python uses an automatic garbage collection system to manage memory. The __del__ method is part of this system and provides a hook into the finalization process, allowing for custom clean-up behavior.\n",
        "\n",
        "Cyclic References: One caveat is that if objects are involved in reference cycles, their __del__ methods may not be called. This is because Python’s garbage collector might not be able to determine the order in which objects should be destroyed. Therefore, it's generally recommended to avoid using __del__ in situations where cyclic references might occur.\n",
        "\n",
        "Here's an example of how the __del__ method can be used:\n",
        "\n",
        "\n",
        "class MyClass:\n",
        "\n",
        "    def __init__(self, resource):\n",
        "\n",
        "        self.resource = resource\n",
        "\n",
        "        print(f\"Acquired resource: {self.resource}\")\n",
        "\n",
        "    def __del__(self):\n",
        "\n",
        "\n",
        "        print(f\"Releasing resource: {self.resource}\")\n",
        "\n",
        "        # Clean-up code here, like closing a file\n",
        "\n",
        "        self.resource.close()\n",
        "\n",
        "\n",
        "resource = open('somefile.txt', 'w')\n",
        "\n",
        "obj = MyClass(resource)\n"
      ],
      "metadata": {
        "id": "pZ579KXWRLSY"
      }
    },
    {
      "cell_type": "markdown",
      "source": [
        "22)What is the difference between @staticmethod and @classmethod in Python?\n",
        "\n",
        "Ans:-\n",
        "In Python, @staticmethod and @classmethod are decorators used to define methods within a class that are not bound to an instance of the class. However, they have different purposes and behaviors. Here's a detailed explanation of the differences between them:\n",
        "\n",
        "1)@staticmethod\n",
        "Definition:\n",
        "\n",
        "A @staticmethod is a method that does not operate on an instance of the class or on the class itself. It does not take the implicit self or cls parameter.\n",
        "It behaves like a regular function but belongs to the class's namespace.\n",
        "Usage:\n",
        "\n",
        "@staticmethod is used when you need a function that logically belongs to the class but does not need access to the instance (self) or class (cls) itself.\n",
        "Useful for utility functions that perform a task related to the class but do not need to modify class or instance state.\n",
        "Example:\n",
        "\n",
        "\n",
        "class MyClass:\n",
        "    \n",
        "    @staticmethod\n",
        "    \n",
        "    def static_method(arg1, arg2):\n",
        "    \n",
        "        return arg1 + arg2\n",
        "\n",
        "\n",
        "result = MyClass.static_method(5, 10)  # Calls the static method\n",
        "\n",
        "directly from the class\n",
        "\n",
        "2)@classmethod\n",
        "\n",
        "Definition:\n",
        "\n",
        "A @classmethod is a method that operates on the class itself rather than an instance. It takes cls as its first parameter, which refers to the class.\n",
        "Usage:\n",
        "\n",
        "@classmethod is used when you need to access or modify the class state, not just the instance state.\n",
        "Often used for factory methods that create instances of the class using different initialization patterns.\n",
        "Example:\n",
        "\n",
        "\n",
        "class MyClass:\n",
        "    class_variable = 0\n",
        "\n",
        "    def __init__(self, value):\n",
        "        self.instance_variable = value\n",
        "\n",
        "    @classmethod\n",
        "    def increment_class_variable(cls):\n",
        "        cls.class_variable += 1\n",
        "\n",
        "    @classmethod\n",
        "    def from_value(cls, value):\n",
        "        return cls(value)\n",
        "\n",
        "\n",
        "MyClass.increment_class_variable()  # Modifies the class variable\n",
        "\n",
        "instance = MyClass.from_value(10)   # Creates a new instance using the class method"
      ],
      "metadata": {
        "id": "DEg_lQ-isnZx"
      }
    },
    {
      "cell_type": "markdown",
      "source": [
        "23)How does polymorphism work in Python with inheritance?\n",
        "\n",
        "Ans:-Polymorphism in Python, particularly in the context of inheritance, allows objects of different classes to be treated as objects of a common superclass. This is particularly useful in creating flexible and reusable code. Polymorphism is achieved in Python through method overriding, where a subclass provides a specific implementation of a method that is already defined in its superclass.\n",
        "\n",
        "Here's a detailed explanation of how polymorphism works with inheritance in Python:\n",
        "\n",
        "Key Concepts\n",
        "Method Overriding: Subclasses can override methods defined in their superclass. When an overridden method is called on an object, the method in the subclass is invoked.\n",
        "\n",
        "Dynamic Typing: Python's dynamic typing allows polymorphism to be easily implemented, as the type of an object is determined at runtime.\n",
        "\n",
        "Duck Typing: Python follows the principle of \"duck typing,\" where the suitability of an object for a role is determined by the presence of certain methods and properties, rather than the object's type itself.\n",
        "\n",
        "Example of Polymorphism with Inheritance\n",
        "Consider a scenario with a base class Animal and two subclasses Dog and Cat:\n",
        "\n",
        "\n",
        "class Animal:\n",
        "\n",
        "    def make_sound(self):\n",
        "\n",
        "        raise NotImplementedError(\"Subclasses must implement this\n",
        "        method\")\n",
        "\n",
        "class Dog(Animal):\n",
        "\n",
        "    def make_sound(self):\n",
        "\n",
        "        return \"Woof\"\n",
        "\n",
        "class Cat(Animal):\n",
        "\n",
        "    def make_sound(self):\n",
        "\n",
        "        return \"Meow\"\n",
        "\n",
        "In this example, Dog and Cat both override the make_sound method from the Animal base class.\n",
        "\n",
        "Using Polymorphism\n",
        "We can create a list of Animal objects and call the make_sound method on each, regardless of whether the object is an instance of Dog or Cat:\n",
        "\n",
        "\n",
        "animals = [Dog(), Cat()]\n",
        "\n",
        "for animal in animals:\n",
        "\n",
        "    print(animal.make_sound())\n",
        "\n",
        "Output:\n",
        "\n",
        "\n",
        "Woof\n",
        "\n",
        "Meow\n",
        "\n",
        "Here, polymorphism allows the make_sound method to be called on each animal object without needing to know its specific type. The correct method implementation is determined at runtime based on the object's actual class."
      ],
      "metadata": {
        "id": "wlWOIj4Gvv3K"
      }
    },
    {
      "cell_type": "markdown",
      "source": [
        "24)What is method chaining in Python OOP?\n",
        "\n",
        "Ans:-Method chaining in Python Object-Oriented Programming (OOP) is a programming technique that allows you to call multiple methods on the same object in a single line of code. This is done by having each method return the object itself (typically self), enabling successive method calls on the same object instance.\n",
        "\n",
        "Key Benefits of Method Chaining:-\n",
        "Readability: It can make the code more concise and readable by reducing the need for intermediate variables.\n",
        "Fluent Interface: It provides a fluent interface, which can make the code more intuitive and easier to understand.\n",
        "Efficient Coding: It allows for writing operations in a more compact and expressive way.\n",
        "\n",
        "\n",
        "Method chaining in Python Object-Oriented Programming (OOP) is a programming technique that allows you to call multiple methods on the same object in a single line of code. This is done by having each method return the object itself (typically self), enabling successive method calls on the same object instance.\n",
        "\n",
        "Key Benefits of Method Chaining\n",
        "Readability: It can make the code more concise and readable by reducing the need for intermediate variables.\n",
        "Fluent Interface: It provides a fluent interface, which can make the code more intuitive and easier to understand.\n",
        "Efficient Coding: It allows for writing operations in a more compact and expressive way.\n",
        "How Method Chaining Works\n",
        "To implement method chaining, each method should return self, which is a reference to the current object instance.\n",
        "\n",
        "Example of Method Chaining\n",
        "Consider a class Person that allows method chaining to set various attributes:\n",
        "\n",
        "\n",
        "class Person:\n",
        "\n",
        "    def __init__(self, name):\n",
        "\n",
        "        self.name = name\n",
        "\n",
        "        self.age = None\n",
        "\n",
        "        self.job = None\n",
        "\n",
        "    def set_age(self, age):\n",
        "\n",
        "        self.age = age\n",
        "\n",
        "        return self\n",
        "\n",
        "    def set_job(self, job):\n",
        "\n",
        "        self.job = job\n",
        "\n",
        "        return self\n",
        "\n",
        "    def display(self):\n",
        "        print(f\"Name: {self.name}, Age: {self.age}, Job: {self.job}\")\n",
        "\n",
        "        return self\n",
        "\n",
        "\n",
        "person = Person(\"Alice\")\n",
        "\n",
        "person.set_age(30).set_job(\"Engineer\").display()\n",
        "\n",
        "In summary, method chaining is a powerful technique in Python OOP that enhances code readability and provides a fluent interface for performing a sequence of operations on an object."
      ],
      "metadata": {
        "id": "7puOao2iytw0"
      }
    },
    {
      "cell_type": "markdown",
      "source": [
        "25)What is the purpose of the ______call__ method in Python?\n",
        "\n",
        "\n",
        "Ans:-The __call__ method in Python is a special method that allows an instance of a class to be called as if it were a function. When an instance's __call__ method is implemented, you can use the instance like a callable object, such as a function or a method. This can be useful in various scenarios, such as creating objects that behave like functions, implementing function wrappers, or creating more intuitive and readable code.\n",
        "\n",
        "Purpose of the __call__ Method\n",
        "Creating Callable Objects: It allows instances of a class to be invoked as if they were functions, enabling a more flexible and intuitive interface.\n",
        "Function Wrappers: It can be used to create decorator-like objects that can modify or enhance the behavior of functions or methods.\n",
        "Stateful Functions: It enables the creation of functions that maintain state across multiple calls, which can be useful in scenarios like caching or maintaining counters.\n",
        "How the __call__ Method Works\n",
        "To define a __call__ method, you simply add it to your class definition. This method can accept any number of arguments, just like a regular function.\n",
        "\n",
        "Example of the __call__ Method\n",
        "Here is an example of a class that implements the __call__ method:\n",
        "\n",
        "class Adder:\n",
        "    \n",
        "    def __init__(self, increment):\n",
        "    \n",
        "        self.increment = increment\n",
        "\n",
        "    \n",
        "    def __call__(self, value):\n",
        "\n",
        "        return value + self.increment\n",
        "\n",
        "\n",
        "\n",
        "add_five = Adder(5)\n",
        "\n",
        "result = add_five(10)  # Equivalent to calling add_five.__call__(10)\n",
        "\n",
        "print(result)  # Output: 15\n",
        "\n",
        "\n",
        "\n",
        "The __call__ method in Python is a special method that allows an instance of a class to be called as if it were a function. When an instance's __call__ method is implemented, you can use the instance like a callable object, such as a function or a method. This can be useful in various scenarios, such as creating objects that behave like functions, implementing function wrappers, or creating more intuitive and readable code.\n",
        "\n",
        "Purpose of the __call__ Method\n",
        "Creating Callable Objects: It allows instances of a class to be invoked as if they were functions, enabling a more flexible and intuitive interface.\n",
        "Function Wrappers: It can be used to create decorator-like objects that can modify or enhance the behavior of functions or methods.\n",
        "Stateful Functions: It enables the creation of functions that maintain state across multiple calls, which can be useful in scenarios like caching or maintaining counters.\n",
        "How the __call__ Method Works\n",
        "To define a __call__ method, you simply add it to your class definition. This method can accept any number of arguments, just like a regular function.\n",
        "\n",
        "Example of the __call__ Method\n",
        "Here is an example of a class that implements the __call__ method:\n",
        "\n",
        "python\n",
        "Copy code\n",
        "class Adder:\n",
        "    def __init__(self, increment):\n",
        "        self.increment = increment\n",
        "\n",
        "    def __call__(self, value):\n",
        "        return value + self.increment\n",
        "\n",
        "add_five = Adder(5)\n",
        "result = add_five(10)  # Equivalent to calling add_five.__call__(10)\n",
        "print(result)  # Output: 15\n",
        "In this example:\n",
        "\n",
        "The Adder class has an __init__ method that initializes the increment attribute.\n",
        "The __call__ method takes a value, adds the increment to it, and returns the result.\n",
        "An instance of Adder is created with an increment of 5.\n",
        "Calling the instance with 10 results in 15, demonstrating how the instance behaves like a function."
      ],
      "metadata": {
        "id": "FzUEOr130Eba"
      }
    },
    {
      "cell_type": "markdown",
      "source": [
        "# ***PRACTICAL QUESTIONS***"
      ],
      "metadata": {
        "id": "4CxKYPij6uFo"
      }
    },
    {
      "cell_type": "markdown",
      "source": [
        "1)Create a parent class Animal with a method speak() that prints a generic message. Create a child class Dog that overrides the speak() method to print \"Bark!.\n"
      ],
      "metadata": {
        "id": "pSLiD4uw7H81"
      }
    },
    {
      "cell_type": "code",
      "source": [
        "# Define the parent class Animal\n",
        "class Animal:\n",
        "    def speak(self):\n",
        "        print(\"The animal makes a sound\")\n",
        "\n",
        "# Define the child class Dog that inherits from Animal\n",
        "class Dog(Animal):\n",
        "    def speak(self):\n",
        "        print(\"Bark!\")\n",
        "\n",
        "# Create an instance of each class and call their speak methods\n",
        "generic_animal = Animal()\n",
        "generic_animal.speak()\n",
        "\n",
        "dog = Dog()\n",
        "dog.speak()\n"
      ],
      "metadata": {
        "colab": {
          "base_uri": "https://localhost:8080/"
        },
        "id": "dcOud3O66IAE",
        "outputId": "473c61df-637a-41f2-9100-b900162fc06a"
      },
      "execution_count": null,
      "outputs": [
        {
          "output_type": "stream",
          "name": "stdout",
          "text": [
            "The animal makes a sound\n",
            "Bark!\n"
          ]
        }
      ]
    },
    {
      "cell_type": "markdown",
      "source": [
        "2) Write a program to create an abstract class Shape with a method area(). Derive classes Circle and Rectangle from it and implement the area() method in both."
      ],
      "metadata": {
        "id": "W32Ewk6y6K1d"
      }
    },
    {
      "cell_type": "code",
      "source": [
        "from abc import ABC, abstractmethod\n",
        "import math\n",
        "\n",
        "# Define the abstract class Shape\n",
        "class Shape(ABC):\n",
        "    @abstractmethod\n",
        "    def area(self):\n",
        "        pass\n",
        "\n",
        "# Define the Circle class that inherits from Shape\n",
        "class Circle(Shape):\n",
        "    def __init__(self, radius):\n",
        "        self.radius = radius\n",
        "\n",
        "    def area(self):\n",
        "        return math.pi * self.radius ** 2\n",
        "\n",
        "# Define the Rectangle class that inherits from Shape\n",
        "class Rectangle(Shape):\n",
        "    def __init__(self, width, height):\n",
        "        self.width = width\n",
        "        self.height = height\n",
        "\n",
        "    def area(self):\n",
        "        return self.width * self.height\n",
        "\n",
        "# Create instances of Circle and Rectangle and calculate their areas\n",
        "circle = Circle(5)\n",
        "print(f\"Area of the circle: {circle.area()}\")\n",
        "\n",
        "rectangle = Rectangle(4, 6)\n",
        "print(f\"Area of the rectangle: {rectangle.area()}\")\n"
      ],
      "metadata": {
        "colab": {
          "base_uri": "https://localhost:8080/"
        },
        "id": "nkdgY_x78cTi",
        "outputId": "e3f048c2-d931-471f-e92e-9cb2d1339544"
      },
      "execution_count": null,
      "outputs": [
        {
          "output_type": "stream",
          "name": "stdout",
          "text": [
            "Area of the circle: 78.53981633974483\n",
            "Area of the rectangle: 24\n"
          ]
        }
      ]
    },
    {
      "cell_type": "markdown",
      "source": [
        "3) Implement a multi-level inheritance scenario where a class Vehicle has an attribute type. Derive a class Car\n",
        "and further derive a class ElectricCar that adds a battery attribute."
      ],
      "metadata": {
        "id": "SqVNYaev8mfs"
      }
    },
    {
      "cell_type": "code",
      "source": [
        "# Base class\n",
        "class Vehicle:\n",
        "    def __init__(self, vehicle_type):\n",
        "        self.vehicle_type = vehicle_type\n",
        "\n",
        "    def display_info(self):\n",
        "        print(f\"Vehicle Type: {self.vehicle_type}\")\n",
        "\n",
        "# Derived class\n",
        "class Car(Vehicle):\n",
        "    def __init__(self, vehicle_type, brand):\n",
        "        super().__init__(vehicle_type)\n",
        "        self.brand = brand\n",
        "\n",
        "    def display_info(self):\n",
        "        super().display_info()\n",
        "        print(f\"Car Brand: {self.brand}\")\n",
        "\n",
        "# Further derived class\n",
        "class ElectricCar(Car):\n",
        "    def __init__(self, vehicle_type, brand, battery_capacity):\n",
        "        super().__init__(vehicle_type, brand)\n",
        "        self.battery_capacity = battery_capacity\n",
        "\n",
        "    def display_info(self):\n",
        "        super().display_info()\n",
        "        print(f\"Battery Capacity: {self.battery_capacity} kWh\")\n",
        "\n",
        "# Example usage\n",
        "vehicle = Vehicle(\"General\")\n",
        "vehicle.display_info()\n",
        "print()  # for better readability\n",
        "\n",
        "car = Car(\"Sedan\", \"Toyota\")\n",
        "car.display_info()\n",
        "print()  # for better readability\n",
        "\n",
        "electric_car = ElectricCar(\"Sedan\", \"Tesla\", 75)\n",
        "electric_car.display_info()\n"
      ],
      "metadata": {
        "id": "bR27LbHE8smm",
        "colab": {
          "base_uri": "https://localhost:8080/"
        },
        "outputId": "0c638b41-489c-4443-c523-9a1b9cc381ca"
      },
      "execution_count": null,
      "outputs": [
        {
          "output_type": "stream",
          "name": "stdout",
          "text": [
            "Vehicle Type: General\n",
            "\n",
            "Vehicle Type: Sedan\n",
            "Car Brand: Toyota\n",
            "\n",
            "Vehicle Type: Sedan\n",
            "Car Brand: Tesla\n",
            "Battery Capacity: 75 kWh\n"
          ]
        }
      ]
    },
    {
      "cell_type": "markdown",
      "source": [
        "4) Implement a multi-level inheritance scenario where a class Vehicle has an attribute type. Derive a class Car and further derive a class ElectricCar that adds a battery attribute."
      ],
      "metadata": {
        "id": "XoaPoDBCT_zT"
      }
    },
    {
      "cell_type": "code",
      "source": [
        "# Base class\n",
        "class Vehicle:\n",
        "    def __init__(self, vehicle_type):\n",
        "        self.vehicle_type = vehicle_type\n",
        "\n",
        "    def display_info(self):\n",
        "        print(f\"Vehicle Type: {self.vehicle_type}\")\n",
        "\n",
        "# Derived class\n",
        "class Car(Vehicle):\n",
        "    def __init__(self, vehicle_type, brand):\n",
        "        super().__init__(vehicle_type)\n",
        "        self.brand = brand\n",
        "\n",
        "    def display_info(self):\n",
        "        super().display_info()\n",
        "        print(f\"Car Brand: {self.brand}\")\n",
        "\n",
        "# Further derived class\n",
        "class ElectricCar(Car):\n",
        "    def __init__(self, vehicle_type, brand, battery_capacity):\n",
        "        super().__init__(vehicle_type, brand)\n",
        "        self.battery_capacity = battery_capacity\n",
        "\n",
        "    def display_info(self):\n",
        "        super().display_info()\n",
        "        print(f\"Battery Capacity: {self.battery_capacity} kWh\")\n",
        "\n",
        "# Example usage\n",
        "vehicle = Vehicle(\"General\")\n",
        "vehicle.display_info()\n",
        "print()  # for better readability\n",
        "\n",
        "car = Car(\"Sedan\", \"Toyota\")\n",
        "car.display_info()\n",
        "print()  # for better readability\n",
        "\n",
        "electric_car = ElectricCar(\"Sedan\", \"Tesla\", 75)\n",
        "electric_car.display_info()\n"
      ],
      "metadata": {
        "colab": {
          "base_uri": "https://localhost:8080/"
        },
        "id": "ntN_6e1cUMCF",
        "outputId": "745b919b-5ab7-4521-ea93-4364144d28c9"
      },
      "execution_count": null,
      "outputs": [
        {
          "output_type": "stream",
          "name": "stdout",
          "text": [
            "Vehicle Type: General\n",
            "\n",
            "Vehicle Type: Sedan\n",
            "Car Brand: Toyota\n",
            "\n",
            "Vehicle Type: Sedan\n",
            "Car Brand: Tesla\n",
            "Battery Capacity: 75 kWh\n"
          ]
        }
      ]
    },
    {
      "cell_type": "markdown",
      "source": [
        "5)Write a program to demonstrate encapsulation by creating a class BankAccount with private attributes balance and methods to deposit, withdraw, and check balance"
      ],
      "metadata": {
        "id": "7JZ9c-xfUZ9C"
      }
    },
    {
      "cell_type": "code",
      "source": [
        "class BankAccount:\n",
        "    def __init__(self, initial_balance=0):\n",
        "        self.__balance = initial_balance  # private attribute\n",
        "\n",
        "    def deposit(self, amount):\n",
        "        if amount > 0:\n",
        "            self.__balance += amount\n",
        "            print(f\"Deposited: ${amount:.2f}\")\n",
        "        else:\n",
        "            print(\"Deposit amount must be positive.\")\n",
        "\n",
        "    def withdraw(self, amount):\n",
        "        if amount > 0:\n",
        "            if amount <= self.__balance:\n",
        "                self.__balance -= amount\n",
        "                print(f\"Withdrawn: ${amount:.2f}\")\n",
        "            else:\n",
        "                print(\"Insufficient funds.\")\n",
        "        else:\n",
        "            print(\"Withdrawal amount must be positive.\")\n",
        "\n",
        "    def check_balance(self):\n",
        "        print(f\"Current Balance: ${self.__balance:.2f}\")\n",
        "\n",
        "# Example usage\n",
        "account = BankAccount(100)  # Initial balance is $100\n",
        "account.check_balance()\n",
        "\n",
        "account.deposit(50)  # Depositing $50\n",
        "account.check_balance()\n",
        "\n",
        "account.withdraw(30)  # Withdrawing $30\n",
        "account.check_balance()\n",
        "\n",
        "account.withdraw(200)  # Attempting to withdraw $200 (should fail due to insufficient funds)\n",
        "account.check_balance()\n"
      ],
      "metadata": {
        "colab": {
          "base_uri": "https://localhost:8080/"
        },
        "id": "VquIonlkUe29",
        "outputId": "b6294833-d44f-4b23-f444-b6431877254e"
      },
      "execution_count": null,
      "outputs": [
        {
          "output_type": "stream",
          "name": "stdout",
          "text": [
            "Current Balance: $100.00\n",
            "Deposited: $50.00\n",
            "Current Balance: $150.00\n",
            "Withdrawn: $30.00\n",
            "Current Balance: $120.00\n",
            "Insufficient funds.\n",
            "Current Balance: $120.00\n"
          ]
        }
      ]
    },
    {
      "cell_type": "markdown",
      "source": [
        "6) Demonstrate runtime polymorphism using a method play() in a base class Instrument. Derive classes Guitar and Piano that implement their own version of play()."
      ],
      "metadata": {
        "id": "HWKsD51KaFdK"
      }
    },
    {
      "cell_type": "code",
      "source": [
        "class Instrument:\n",
        "    def play(self):\n",
        "        print(\"Playing an instrument.\")\n",
        "\n",
        "class Guitar(Instrument):\n",
        "    def play(self):\n",
        "        print(\"Playing the guitar.\")\n",
        "\n",
        "class Piano(Instrument):\n",
        "    def play(self):\n",
        "        print(\"Playing the piano.\")\n",
        "\n",
        "# Function to demonstrate runtime polymorphism\n",
        "def play_instrument(instrument):\n",
        "    instrument.play()\n",
        "\n",
        "# Creating objects of Guitar and Piano\n",
        "guitar = Guitar()\n",
        "piano = Piano()\n",
        "\n",
        "# Demonstrating runtime polymorphism\n",
        "play_instrument(guitar)  # Calls Guitar's play()\n",
        "play_instrument(piano)   # Calls Piano's play()\n"
      ],
      "metadata": {
        "colab": {
          "base_uri": "https://localhost:8080/"
        },
        "id": "mHIWqvp85qSp",
        "outputId": "69e1c0a9-bf2a-48f3-cac4-328890c1fabc"
      },
      "execution_count": 1,
      "outputs": [
        {
          "output_type": "stream",
          "name": "stdout",
          "text": [
            "Playing the guitar.\n",
            "Playing the piano.\n"
          ]
        }
      ]
    },
    {
      "cell_type": "markdown",
      "source": [
        "7) Create a class MathOperations with a class method add_numbers() to add two numbers and a static method subtract_numbers() to subtract two numbers."
      ],
      "metadata": {
        "id": "CL8K12Oe55FU"
      }
    },
    {
      "cell_type": "code",
      "source": [
        "class MathOperations:\n",
        "    @classmethod\n",
        "    def add_numbers(cls, a, b):\n",
        "        return a + b\n",
        "\n",
        "    @staticmethod\n",
        "    def subtract_numbers(a, b):\n",
        "        return a - b\n",
        "\n",
        "# Example usage:\n",
        "# Using the class method to add numbers\n",
        "sum_result = MathOperations.add_numbers(10, 5)\n",
        "print(f\"Sum: {sum_result}\")\n",
        "\n",
        "# Using the static method to subtract numbers\n",
        "difference_result = MathOperations.subtract_numbers(10, 5)\n",
        "print(f\"Difference: {difference_result}\")\n"
      ],
      "metadata": {
        "colab": {
          "base_uri": "https://localhost:8080/"
        },
        "id": "DmqMgcNl6FNv",
        "outputId": "cff44be5-79ac-471c-90b7-616a20ae0804"
      },
      "execution_count": 2,
      "outputs": [
        {
          "output_type": "stream",
          "name": "stdout",
          "text": [
            "Sum: 15\n",
            "Difference: 5\n"
          ]
        }
      ]
    },
    {
      "cell_type": "markdown",
      "source": [
        "8) Implement a class Person with a class method to count the total number of persons created."
      ],
      "metadata": {
        "id": "Bw68NrAd6sPK"
      }
    },
    {
      "cell_type": "code",
      "source": [
        "class Person:\n",
        "    count = 0  # Class variable to keep track of the number of persons\n",
        "\n",
        "    def __init__(self, name):\n",
        "        self.name = name\n",
        "        Person.count += 1  # Increment the count when a new person is created\n",
        "\n",
        "    @classmethod\n",
        "    def get_person_count(cls):\n",
        "        return cls.count  # Return the total count of persons\n",
        "\n",
        "# Example usage:\n",
        "# Creating instances of Person\n",
        "person1 = Person(\"Alice\")\n",
        "person2 = Person(\"Bob\")\n",
        "person3 = Person(\"Charlie\")\n",
        "\n",
        "# Using the class method to get the total number of persons created\n",
        "total_persons = Person.get_person_count()\n",
        "print(f\"Total number of persons created: {total_persons}\")\n"
      ],
      "metadata": {
        "colab": {
          "base_uri": "https://localhost:8080/"
        },
        "id": "bVkQi95H6uVt",
        "outputId": "ab87e04e-20be-48cd-cfc7-891c854f72c5"
      },
      "execution_count": 4,
      "outputs": [
        {
          "output_type": "stream",
          "name": "stdout",
          "text": [
            "Total number of persons created: 3\n"
          ]
        }
      ]
    },
    {
      "cell_type": "markdown",
      "source": [
        "9) Write a class Fraction with attributes numerator and denominator. Override the str method to display the fraction as \"numerator/denominator\"."
      ],
      "metadata": {
        "id": "PTkQR9fD7JCM"
      }
    },
    {
      "cell_type": "code",
      "source": [
        "class Fraction:\n",
        "    def __init__(self, numerator, denominator):\n",
        "        self.numerator = numerator\n",
        "        self.denominator = denominator\n",
        "\n",
        "    def __str__(self):\n",
        "        return f\"{self.numerator}/{self.denominator}\"\n",
        "\n",
        "# Example usage:\n",
        "fraction = Fraction(3, 4)\n",
        "print(fraction)\n"
      ],
      "metadata": {
        "colab": {
          "base_uri": "https://localhost:8080/"
        },
        "id": "14m-BJZr7Sje",
        "outputId": "65d75206-b894-466a-f6b2-1ac0dd0ab627"
      },
      "execution_count": 5,
      "outputs": [
        {
          "output_type": "stream",
          "name": "stdout",
          "text": [
            "3/4\n"
          ]
        }
      ]
    },
    {
      "cell_type": "markdown",
      "source": [
        "10). Demonstrate operator overloading by creating a class Vector and overriding the add method to add two vectors."
      ],
      "metadata": {
        "id": "7h4kRAa07gb1"
      }
    },
    {
      "cell_type": "code",
      "source": [
        "class Vector:\n",
        "    def __init__(self, x, y):\n",
        "        self.x = x\n",
        "        self.y = y\n",
        "\n",
        "    def __add__(self, other):\n",
        "        if isinstance(other, Vector):\n",
        "            return Vector(self.x + other.x, self.y + other.y)\n",
        "        return NotImplemented\n",
        "\n",
        "    def __str__(self):\n",
        "        return f\"Vector({self.x}, {self.y})\"\n",
        "\n",
        "# Example usage:\n",
        "vector1 = Vector(1, 2)\n",
        "vector2 = Vector(3, 4)\n",
        "\n",
        "result = vector1 + vector2\n",
        "print(result)  # Output: Vector(4, 6)\n"
      ],
      "metadata": {
        "colab": {
          "base_uri": "https://localhost:8080/"
        },
        "id": "8pOU5A6_7nYN",
        "outputId": "018b7254-7d82-40e8-c293-8e9042594b20"
      },
      "execution_count": 6,
      "outputs": [
        {
          "output_type": "stream",
          "name": "stdout",
          "text": [
            "Vector(4, 6)\n"
          ]
        }
      ]
    },
    {
      "cell_type": "markdown",
      "source": [
        "11)Create a class Person with attributes name and age. Add a method greet() that prints \"Hello, my name is {name} and I am {age} years old.\""
      ],
      "metadata": {
        "id": "buxcU6JS8mv6"
      }
    },
    {
      "cell_type": "code",
      "source": [
        "class Person:\n",
        "    def __init__(self, name, age):\n",
        "        self.name = name\n",
        "        self.age = age\n",
        "\n",
        "    def greet(self):\n",
        "        print(f\"Hello, my name is {self.name} and I am {self.age} years old.\")\n",
        "\n",
        "# Example usage:\n",
        "person = Person(\"Arjun\", 24)\n",
        "person.greet()\n"
      ],
      "metadata": {
        "colab": {
          "base_uri": "https://localhost:8080/"
        },
        "id": "xC-ioPII8xLE",
        "outputId": "09271b88-3bdf-4e09-e60f-aa8b61224ce5"
      },
      "execution_count": 9,
      "outputs": [
        {
          "output_type": "stream",
          "name": "stdout",
          "text": [
            "Hello, my name is Arjun and I am 24 years old.\n"
          ]
        }
      ]
    },
    {
      "cell_type": "markdown",
      "source": [
        "12). Implement a class Student with attributes name and grades. Create a method average_grade() to compute the average of the grades."
      ],
      "metadata": {
        "id": "OwizXSbR9hzr"
      }
    },
    {
      "cell_type": "code",
      "source": [
        "class Student:\n",
        "    def __init__(self, name, grades):\n",
        "        self.name = name\n",
        "        self.grades = grades\n",
        "\n",
        "    def average_grade(self):\n",
        "        if not self.grades:\n",
        "            return 0\n",
        "        return sum(self.grades) / len(self.grades)\n",
        "\n",
        "# Example usage:\n",
        "student = Student(\"Alice\", [90, 85, 92, 88])\n",
        "average = student.average_grade()\n",
        "print(f\"{student.name}'s average grade is {average:.2f}\")\n"
      ],
      "metadata": {
        "colab": {
          "base_uri": "https://localhost:8080/"
        },
        "id": "2I0gDj1X9oIm",
        "outputId": "8a791cca-4eb6-4360-b3fa-a8e9d7baade6"
      },
      "execution_count": 10,
      "outputs": [
        {
          "output_type": "stream",
          "name": "stdout",
          "text": [
            "Alice's average grade is 88.75\n"
          ]
        }
      ]
    },
    {
      "cell_type": "markdown",
      "source": [
        "13) Create a class Rectangle with methods set_dimensions() to set the dimensions and area() to calculate the area."
      ],
      "metadata": {
        "id": "rie4ueUX98Hk"
      }
    },
    {
      "cell_type": "code",
      "source": [
        "class Rectangle:\n",
        "    def __init__(self):\n",
        "        self.length = 0\n",
        "        self.width = 0\n",
        "\n",
        "    def set_dimensions(self, length, width):\n",
        "        self.length = length\n",
        "        self.width = width\n",
        "\n",
        "    def area(self):\n",
        "        return self.length * self.width\n",
        "\n",
        "# Example usage:\n",
        "rectangle = Rectangle()\n",
        "rectangle.set_dimensions(5, 3)\n",
        "print(f\"The area of the rectangle is {rectangle.area()}\")  # Output: The area of the rectangle is 15\n"
      ],
      "metadata": {
        "colab": {
          "base_uri": "https://localhost:8080/"
        },
        "id": "oXM7bFCs-Ac6",
        "outputId": "e02a5cc4-b1fe-4964-a5c8-b83faf1cb6b5"
      },
      "execution_count": 11,
      "outputs": [
        {
          "output_type": "stream",
          "name": "stdout",
          "text": [
            "The area of the rectangle is 15\n"
          ]
        }
      ]
    },
    {
      "cell_type": "markdown",
      "source": [
        "14) Create a class Employee with a method calculate_salary() that computes the salary based on hours worked and hourly rate. Create a derived class Manager that adds a bonus to the salary.\n"
      ],
      "metadata": {
        "id": "kYobv0-s-zeY"
      }
    },
    {
      "cell_type": "code",
      "source": [
        "class Employee:\n",
        "    def __init__(self, name, hours_worked, hourly_rate):\n",
        "        self.name = name\n",
        "        self.hours_worked = hours_worked\n",
        "        self.hourly_rate = hourly_rate\n",
        "\n",
        "    def calculate_salary(self):\n",
        "        return self.hours_worked * self.hourly_rate\n",
        "\n",
        "class Manager(Employee):\n",
        "    def __init__(self, name, hours_worked, hourly_rate, bonus):\n",
        "        super().__init__(name, hours_worked, hourly_rate)\n",
        "        self.bonus = bonus\n",
        "\n",
        "    def calculate_salary(self):\n",
        "        base_salary = super().calculate_salary()\n",
        "        return base_salary + self.bonus\n",
        "\n",
        "# Example usage:\n",
        "employee = Employee(\"Alice\", 40, 20)\n",
        "print(f\"{employee.name}'s salary is ${employee.calculate_salary()}\")\n",
        "\n",
        "manager = Manager(\"Bob\", 40, 30, 500)\n",
        "print(f\"{manager.name}'s salary is ${manager.calculate_salary()}\")\n"
      ],
      "metadata": {
        "colab": {
          "base_uri": "https://localhost:8080/"
        },
        "id": "tXwz0w6-_Yic",
        "outputId": "59ae3a76-aee4-4979-b15d-469f06946dc2"
      },
      "execution_count": 12,
      "outputs": [
        {
          "output_type": "stream",
          "name": "stdout",
          "text": [
            "Alice's salary is $800\n",
            "Bob's salary is $1700\n"
          ]
        }
      ]
    },
    {
      "cell_type": "markdown",
      "source": [
        "15)Create a class Product with attributes name, price, and quantity. Implement a method total_price() that calculates the total price of the product.\n",
        "\n",
        "\n"
      ],
      "metadata": {
        "id": "FLNg4xN8AuXy"
      }
    },
    {
      "cell_type": "code",
      "source": [
        "class Product:\n",
        "    def __init__(self, name, price, quantity):\n",
        "        self.name = name\n",
        "        self.price = price\n",
        "        self.quantity = quantity\n",
        "\n",
        "    def total_price(self):\n",
        "        return self.price * self.quantity\n",
        "\n",
        "# Example usage:\n",
        "product = Product(\"Laptop\", 1000, 3)\n",
        "print(f\"The total price of {product.name} is ${product.total_price()}\")  # Output: The total price of Laptop is $3000\n"
      ],
      "metadata": {
        "colab": {
          "base_uri": "https://localhost:8080/"
        },
        "id": "DpCIiaY7A4xc",
        "outputId": "3a12c19d-5e6d-4511-863f-320d7f043d04"
      },
      "execution_count": 13,
      "outputs": [
        {
          "output_type": "stream",
          "name": "stdout",
          "text": [
            "The total price of Laptop is $3000\n"
          ]
        }
      ]
    },
    {
      "cell_type": "markdown",
      "source": [
        "16)Create a class Animal with an abstract method sound(). Create two derived classes Cow and Sheep that implement the sound() method."
      ],
      "metadata": {
        "id": "xPxBDpAmBPtR"
      }
    },
    {
      "cell_type": "code",
      "source": [
        "from abc import ABC, abstractmethod\n",
        "\n",
        "class Animal(ABC):\n",
        "    @abstractmethod\n",
        "    def sound(self):\n",
        "        pass\n",
        "\n",
        "class Cow(Animal):\n",
        "    def sound(self):\n",
        "        return \"Moo\"\n",
        "\n",
        "class Sheep(Animal):\n",
        "    def sound(self):\n",
        "        return \"Baa\"\n",
        "\n",
        "# Example usage:\n",
        "cow = Cow()\n",
        "sheep = Sheep()\n",
        "\n",
        "print(f\"Cow makes sound: {cow.sound()}\")  # Output: Cow makes sound: Moo\n",
        "print(f\"Sheep makes sound: {sheep.sound()}\")  # Output: Sheep makes sound: Baa\n"
      ],
      "metadata": {
        "colab": {
          "base_uri": "https://localhost:8080/"
        },
        "id": "mJxvDH8rBXUq",
        "outputId": "88feaec3-3ae6-4d21-992c-ce62def37f10"
      },
      "execution_count": 14,
      "outputs": [
        {
          "output_type": "stream",
          "name": "stdout",
          "text": [
            "Cow makes sound: Moo\n",
            "Sheep makes sound: Baa\n"
          ]
        }
      ]
    },
    {
      "cell_type": "markdown",
      "source": [
        "17) Create a class Book with attributes title, author, and year_published. Add a method get_book_info() that returns a formatted string with the book's details."
      ],
      "metadata": {
        "id": "F20jZib6BsAs"
      }
    },
    {
      "cell_type": "code",
      "source": [
        "class Book:\n",
        "    def __init__(self, title, author, year_published):\n",
        "        self.title = title\n",
        "        self.author = author\n",
        "        self.year_published = year_published\n",
        "\n",
        "    def get_book_info(self):\n",
        "        return f\"Title: {self.title}, Author: {self.author}, Year Published: {self.year_published}\"\n",
        "\n",
        "# Example usage:\n",
        "book = Book(\"1984\", \"George Orwell\", 1949)\n",
        "print(book.get_book_info())\n"
      ],
      "metadata": {
        "colab": {
          "base_uri": "https://localhost:8080/"
        },
        "id": "-7nrsfW2B2W6",
        "outputId": "b8385ce4-e990-47fe-b753-32a2a7fdafcb"
      },
      "execution_count": 15,
      "outputs": [
        {
          "output_type": "stream",
          "name": "stdout",
          "text": [
            "Title: 1984, Author: George Orwell, Year Published: 1949\n"
          ]
        }
      ]
    },
    {
      "cell_type": "markdown",
      "source": [
        "18) Create a class House with attributes address and price. Create a derived class Mansion that adds an attribute number_of_rooms."
      ],
      "metadata": {
        "id": "D5bTEPxsCiVU"
      }
    },
    {
      "cell_type": "code",
      "source": [
        "class House:\n",
        "    def __init__(self, address, price):\n",
        "        self.address = address\n",
        "        self.price = price\n",
        "\n",
        "    def get_house_info(self):\n",
        "        return f\"Address: {self.address}, Price: ${self.price}\"\n",
        "\n",
        "class Mansion(House):\n",
        "    def __init__(self, address, price, number_of_rooms):\n",
        "        super().__init__(address, price)  # Call the parent class's constructor\n",
        "        self.number_of_rooms = number_of_rooms\n",
        "\n",
        "    def get_mansion_info(self):\n",
        "        house_info = super().get_house_info()  # Get house details from parent class\n",
        "        return f\"{house_info}, Number of rooms: {self.number_of_rooms}\"\n",
        "\n",
        "# Example usage:\n",
        "house = House(\"123 Elm Street\", 250000)\n",
        "print(house.get_house_info())\n",
        "\n",
        "mansion = Mansion(\"456 Oak Avenue\", 1200000, 10)\n",
        "print(mansion.get_mansion_info())"
      ],
      "metadata": {
        "colab": {
          "base_uri": "https://localhost:8080/"
        },
        "id": "RIW67yfTCs14",
        "outputId": "4498fc1f-1dd6-4d1a-867b-b18505a14bbf"
      },
      "execution_count": 16,
      "outputs": [
        {
          "output_type": "stream",
          "name": "stdout",
          "text": [
            "Address: 123 Elm Street, Price: $250000\n",
            "Address: 456 Oak Avenue, Price: $1200000, Number of rooms: 10\n"
          ]
        }
      ]
    }
  ]
}